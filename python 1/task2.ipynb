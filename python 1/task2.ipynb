{
 "cells": [
  {
   "cell_type": "markdown",
   "metadata": {},
   "source": []
  },
  {
   "cell_type": "code",
   "execution_count": 2,
   "metadata": {},
   "outputs": [
    {
     "name": "stdout",
     "output_type": "stream",
     "text": [
      "[1, 2, 3, 4, 5, 6, 7, 8, 9, 10]\n",
      "total: 55\n"
     ]
    }
   ],
   "source": [
    "list_of_number=[1,2,3,4,5,6,7,8,9,10]\n",
    "print(list_of_number)\n",
    "total_sum=sum(list_of_number)\n",
    "print(\"total:\",total_sum)"
   ]
  },
  {
   "cell_type": "code",
   "execution_count": 22,
   "metadata": {},
   "outputs": [
    {
     "name": "stdout",
     "output_type": "stream",
     "text": [
      "orginal_list : ['apple', 'banana', 'jackfruit', 'grapes']\n",
      "reverse list : ['grapes', 'jackfruit', 'banana', 'apple']\n"
     ]
    }
   ],
   "source": [
    "\n",
    "list_fruits=[\"apple\",\"banana\",\"jackfruit\",\"grapes\"]\n",
    "print(\"orginal_list :\", list_fruits)\n",
    "list_rereverse=list_fruits[::-1]\n",
    "print(\"reverse list :\", list_rereverse)"
   ]
  },
  {
   "cell_type": "code",
   "execution_count": 19,
   "metadata": {},
   "outputs": [
    {
     "name": "stdout",
     "output_type": "stream",
     "text": [
      "{'sasank': 85, 'anil kumar': 92, 'latha': 78, 'Dhoni': 99, 'reddis': 88}\n"
     ]
    }
   ],
   "source": [
    "grades = {\n",
    "    \"sasank\": 85,\n",
    "    \"anil kumar\": 92,\n",
    "    \"latha\": 78,\n",
    "    \"Dhoni\": 50}\n",
    "grades [\"reddis\"]= 88\n",
    "grades.update({\"Dhoni\":99})\n",
    "print( grades)"
   ]
  },
  {
   "cell_type": "code",
   "execution_count": 2,
   "metadata": {},
   "outputs": [
    {
     "name": "stdout",
     "output_type": "stream",
     "text": [
      "Original list: [1, 2, 3, 4, 5, 2, 3, 6, 7, 5]\n",
      "Set (no duplicates): {1, 2, 3, 4, 5, 6, 7}\n"
     ]
    }
   ],
   "source": [
    "# Create a list of numbers with some duplicates\n",
    "numbers_list = [1, 2, 3, 4, 5, 2, 3, 6, 7, 5]\n",
    "numbers_set = set(numbers_list)\n",
    "print(\"Original list:\", numbers_list)\n",
    "print(\"Set (no duplicates):\", numbers_set)"
   ]
  },
  {
   "cell_type": "code",
   "execution_count": 30,
   "metadata": {},
   "outputs": [
    {
     "name": "stdout",
     "output_type": "stream",
     "text": [
      "[1, 4, 9, 16, 25, 36, 49, 64, 81, 100]\n"
     ]
    }
   ],
   "source": [
    "squares = [x**2 for x in range(1, 11)]\n",
    "print(squares)"
   ]
  },
  {
   "cell_type": "code",
   "execution_count": 36,
   "metadata": {},
   "outputs": [
    {
     "name": "stdout",
     "output_type": "stream",
     "text": [
      "Raju\n",
      "45\n",
      "golkonda fort\n"
     ]
    }
   ],
   "source": [
    "kingdom=(\"Raju\",45,\"golkonda fort\")\n",
    "\n",
    "(kingname,kingage,kingfort)=kingdom\n",
    "print(kingname)\n",
    "print(kingage)\n",
    "print(kingfort)"
   ]
  },
  {
   "cell_type": "code",
   "execution_count": 7,
   "metadata": {},
   "outputs": [
    {
     "ename": "SyntaxError",
     "evalue": "unexpected character after line continuation character (3433476115.py, line 3)",
     "output_type": "error",
     "traceback": [
      "\u001b[1;36m  Cell \u001b[1;32mIn[7], line 3\u001b[1;36m\u001b[0m\n\u001b[1;33m    merged ={**grades \\ ,**ages}\u001b[0m\n\u001b[1;37m                       ^\u001b[0m\n\u001b[1;31mSyntaxError\u001b[0m\u001b[1;31m:\u001b[0m unexpected character after line continuation character\n"
     ]
    }
   ],
   "source": [
    "grades = {\"kumar\": 85,\"ravi\": 92,\"gas\": 78}\n",
    "ages = {\"kumar\": 20,\"ravi\": 21,\"gas\": 19}\n",
    "merged ={**grades,**ages}\n",
    "print(merged)\n"
   ]
  },
  {
   "cell_type": "code",
   "execution_count": 52,
   "metadata": {},
   "outputs": [
    {
     "name": "stdout",
     "output_type": "stream",
     "text": [
      "Intersection: {5}\n",
      "union: {1, 2, 3, 4, 5, 6, 7, 8, 9}\n"
     ]
    }
   ],
   "source": [
    "set1 = {1, 2, 3, 4,5 }\n",
    "set2 = {5, 6, 7, 8, 9}\n",
    "intersection = set1 & set2\n",
    "print(\"Intersection:\", intersection)\n",
    "\n",
    "unoin= set1 | set2\n",
    "print(\"union:\", unoin)"
   ]
  },
  {
   "cell_type": "code",
   "execution_count": 69,
   "metadata": {},
   "outputs": [
    {
     "name": "stdout",
     "output_type": "stream",
     "text": [
      "{'hara': 90, 'krishna': 95, 'hari': 95, 'krishnaa': 99}\n"
     ]
    }
   ],
   "source": [
    "student_ng= [(\"hara\",90), (\"krishna\",95),(\"hari\",95), (\"krishnaa\",99)]\n",
    "dic_con=dict(student_ng)\n",
    "print(dic_con)"
   ]
  }
 ],
 "metadata": {
  "kernelspec": {
   "display_name": "Python 3",
   "language": "python",
   "name": "python3"
  },
  "language_info": {
   "codemirror_mode": {
    "name": "ipython",
    "version": 3
   },
   "file_extension": ".py",
   "mimetype": "text/x-python",
   "name": "python",
   "nbconvert_exporter": "python",
   "pygments_lexer": "ipython3",
   "version": "3.12.5"
  }
 },
 "nbformat": 4,
 "nbformat_minor": 2
}
